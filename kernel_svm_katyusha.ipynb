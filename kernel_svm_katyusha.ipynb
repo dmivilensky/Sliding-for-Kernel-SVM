{
 "cells": [
  {
   "cell_type": "code",
   "execution_count": 153,
   "metadata": {
    "colab": {},
    "colab_type": "code",
    "id": "Yy40th4eJlFl"
   },
   "outputs": [],
   "source": [
    "# To download http://archive.ics.uci.edu/ml/datasets/gas+sensors+for+home+activity+monitoring\n",
    "\n",
    "import time\n",
    "from tqdm import tqdm\n",
    "\n",
    "# import numpy as np\n",
    "\n",
    "from autograd import numpy as np\n",
    "from autograd import grad\n",
    "np.random.seed(77)\n",
    "\n",
    "import pandas as pd\n",
    "from numpy.linalg import norm, eigvals\n",
    "\n",
    "from sklearn.model_selection import train_test_split\n",
    "from sklearn.preprocessing import MinMaxScaler\n",
    "\n",
    "import warnings\n",
    "warnings.simplefilter('ignore')\n",
    "\n",
    "import matplotlib.pyplot as plt\n",
    "%matplotlib inline"
   ]
  },
  {
   "cell_type": "code",
   "execution_count": 154,
   "metadata": {},
   "outputs": [],
   "source": [
    "class Timer:    \n",
    "    def __enter__(self):\n",
    "        self.start = time.time()\n",
    "        return self\n",
    "\n",
    "    def __exit__(self, *args):\n",
    "        self.end = time.time()\n",
    "        self.interval = self.end - self.start"
   ]
  },
  {
   "cell_type": "markdown",
   "metadata": {},
   "source": [
    "## Problem"
   ]
  },
  {
   "cell_type": "code",
   "execution_count": 155,
   "metadata": {},
   "outputs": [],
   "source": [
    "MAX_SAMPLES = 6200\n",
    "LAMBDA = 1e-2\n",
    "GAMMA = 1e-1\n",
    "EPS = 1e-3\n",
    "MU = 1e-1  # Ideally, ~ EPS"
   ]
  },
  {
   "cell_type": "code",
   "execution_count": 156,
   "metadata": {},
   "outputs": [],
   "source": [
    "X = pd.read_csv('HT_Sensor_dataset.dat' , sep='  ', header=1)\n",
    "y = pd.read_csv('HT_Sensor_metadata.dat', sep='\\t', header=0, names=[0], usecols=[2]).iloc[:,0]\n",
    "\n",
    "y = y.map({'banana': 1, 'wine': -1, 'background': None}).dropna().astype(float)\n",
    "\n",
    "X = X[X.iloc[:,0].isin(y.index)].sample(frac=1, random_state=1).head(MAX_SAMPLES)\n",
    "\n",
    "y = y.iloc[X.iloc[:,0]].values[np.newaxis].T\n",
    "X = X.iloc[:,1:].astype(float).values\n",
    "\n",
    "scaler = MinMaxScaler()\n",
    "X = scaler.fit_transform(X)\n",
    "\n",
    "# X_train, X_test, y_train, y_test = train_test_split(X, y, train_size=2/3)\n",
    "X_train, y_train = X, y\n",
    "size = X_train.shape[0]"
   ]
  },
  {
   "cell_type": "code",
   "execution_count": 157,
   "metadata": {},
   "outputs": [],
   "source": [
    "K = np.exp(-GAMMA * norm(X_train[..., :, None, :] - X_train[..., None, :, :], axis=-1) ** 2)"
   ]
  },
  {
   "cell_type": "code",
   "execution_count": 158,
   "metadata": {},
   "outputs": [],
   "source": [
    "def h(point):\n",
    "    x = point[1:]\n",
    "    return LAMBDA/2 * x @ K @ x\n",
    "\n",
    "\n",
    "def dh(point):\n",
    "    x = point[1:]\n",
    "    value = LAMBDA * K @ x\n",
    "    return np.insert(value, 0, 0)\n",
    "\n",
    "\n",
    "def g(point):\n",
    "    x0 = point[0]\n",
    "    x = point[1:]\n",
    "    \n",
    "    # Simple smoothing\n",
    "#     value = np.zeros_like(x)\n",
    "#     value = np.where(margin <= 1, np.power(1 - margin, 2) / (2*MU), 0)\n",
    "#     value = np.where(margin <= 1 - MU, 1 - margin - MU/2, value)\n",
    "        \n",
    "    # Dual smoothing\n",
    "    margin = y_train[..., 0] * (x0 + x @ K)\n",
    "    value = MU * np.log(1 + np.exp(1/MU * (1 - margin)))\n",
    "    \n",
    "    return np.mean(value)\n",
    "\n",
    "\n",
    "def dg(point):\n",
    "    x0 = point[0]\n",
    "    x = point[1:]\n",
    "     \n",
    "    value = np.zeros_like(point)\n",
    "    \n",
    "    # Simple smoothing\n",
    "#     coef = np.zeros_like(x)\n",
    "#     coef = np.where(margin <= 1, -1/MU * (1 - margin) * y_train[..., 0], coef)\n",
    "#     coef = np.where(margin <= 1 - MU, -y_train[..., 0], coef)\n",
    "    \n",
    "    # Dual smoothing\n",
    "    margin = y_train[..., 0] * (x0 + x @ K)\n",
    "    coef = -np.exp(1/MU) / (np.exp(margin/MU) + np.exp(1/MU)) * y_train[..., 0]\n",
    "    \n",
    "    value[0] = np.mean(coef)\n",
    "    value[1:] = np.mean(coef * K, axis=-1)\n",
    "    \n",
    "    return value\n",
    "\n",
    "\n",
    "def dg_stoch(point, i):\n",
    "    x0 = point[0]\n",
    "    x = point[1:]\n",
    "\n",
    "    # Simple smoothing\n",
    "#     if margin <= 1 - MU:\n",
    "#         coef = -y_train[i, 0]\n",
    "#     elif margin <= 1:\n",
    "#         coef = -1/MU * (1 - margin) * y_train[i, 0]\n",
    "#     else:\n",
    "#         coef = 0\n",
    "\n",
    "    # Dual smoothing\n",
    "    margin = y_train[i, 0] * (x0 + x @ K[i])\n",
    "    coef = -np.exp(1/MU) / (np.exp(margin/MU) + np.exp(1/MU)) * y_train[i, 0]\n",
    "        \n",
    "    value = np.zeros_like(point)\n",
    "    value[0] = coef\n",
    "    value[1:] = coef * K[i]\n",
    "    \n",
    "    return value \n",
    "\n",
    "\n",
    "def f(x):\n",
    "    return h(x) + g(x)\n",
    "\n",
    "\n",
    "def df(x):\n",
    "    return dh(x) + dg(x)   "
   ]
  },
  {
   "cell_type": "code",
   "execution_count": 159,
   "metadata": {},
   "outputs": [],
   "source": [
    "lambdas = eigvals(K)\n",
    "lambda_max = np.max(lambdas)"
   ]
  },
  {
   "cell_type": "code",
   "execution_count": 160,
   "metadata": {
    "scrolled": true
   },
   "outputs": [
    {
     "data": {
      "image/png": "[encoded data removed]",
      "text/plain": [
       "<Figure size 576x432 with 1 Axes>"
      ]
     },
     "metadata": {
      "needs_background": "light"
     },
     "output_type": "display_data"
    }
   ],
   "source": [
    "plt.figure(figsize=(8, 6))\n",
    "plt.rcParams.update({'font.size': 16})\n",
    "\n",
    "plt.xlabel('$i$')\n",
    "plt.ylabel('$\\\\lambda_{(i)}(K)$')\n",
    "plt.semilogy(np.sort(np.abs(lambdas)))\n",
    "plt.grid(alpha=0.4)\n",
    "\n",
    "plt.show()"
   ]
  },
  {
   "cell_type": "code",
   "execution_count": 161,
   "metadata": {},
   "outputs": [
    {
     "name": "stdout",
     "output_type": "stream",
     "text": [
      "L_h = 59.33419538608649\n",
      "L = 1059.3341953860865\n"
     ]
    }
   ],
   "source": [
    "def fit_lipschitz_condition(oracle, R=10.0, probes=10, stoch=False):\n",
    "    L = 1e-15    \n",
    "    for j in range(20):\n",
    "        for i in range(probes):\n",
    "            x, y = R * (2 * np.random.random((2, size + 1)) - 1)\n",
    "\n",
    "            # L = max(L, norm(oracle(x) - oracle(y)) / norm(x - y))\n",
    "\n",
    "            if stoch:\n",
    "                i = np.random.randint(size)\n",
    "                while norm(oracle(x, i) - oracle(y, i)) > L * norm(x - y):\n",
    "                    L *= 1.3\n",
    "            else:\n",
    "                while norm(oracle(x) - oracle(y)) > L * norm(x - y):\n",
    "                    L *= 1.3\n",
    "\n",
    "        R /= 2.0\n",
    "    \n",
    "    return L\n",
    "\n",
    "# L_g = fit_lipschitz_condition(dg)\n",
    "# print('L_g =', L_g)\n",
    "L_g = 1/EPS\n",
    "L_stoch = 1/EPS\n",
    "\n",
    "# L_h = fit_lipschitz_condition(dh)\n",
    "lambda_max = lambda_max.real\n",
    "L_h = LAMBDA * lambda_max\n",
    "print('L_h =', L_h)\n",
    "\n",
    "# L = fit_lipschitz_condition(df)\n",
    "# print('L =', L)\n",
    "# print('or maybe')\n",
    "L = L_h + L_g\n",
    "print('L =', L)\n",
    "\n",
    "# L_stoch = fit_lipschitz_condition(dg_stoch, stoch=True)\n",
    "# print('L_stoch =', L_stoch)"
   ]
  },
  {
   "cell_type": "code",
   "execution_count": 162,
   "metadata": {},
   "outputs": [],
   "source": [
    "# print(\"in theory,\")\n",
    "\n",
    "# if np.iscomplex(lambda_max):\n",
    "#     print('WARNING:', 'lambda_max(K) is complex')\n",
    "# lambda_max = lambda_max.real\n",
    "\n",
    "# if USE_THEORETICAL_Lh:\n",
    "#     L_h = LAMBDA * lambda_max\n",
    "\n",
    "# print(\"L_h =\", LAMBDA * lambda_max)"
   ]
  },
  {
   "cell_type": "markdown",
   "metadata": {},
   "source": [
    "## [Katyusha$^{\\text{ns}}$](https://arxiv.org/pdf/1603.05953.pdf)"
   ]
  },
  {
   "cell_type": "code",
   "execution_count": 163,
   "metadata": {
    "colab": {},
    "colab_type": "code",
    "id": "Shg1PxVAJlF5"
   },
   "outputs": [],
   "source": [
    "def Katyusha(coef_1, center_1, coef_2, center_2, line_approx, warm_start=True, S=5):\n",
    "    dg_calls = 0\n",
    "    dh_calls = 0\n",
    "    \n",
    "    m = 100 # 2 * size\n",
    "    tau_2 = 0.5\n",
    "\n",
    "    if warm_start:\n",
    "        x_0 = np.copy(center_2)\n",
    "    else:\n",
    "        x_0 = np.copy(center_1)\n",
    "\n",
    "    y = np.copy(x_0); z = np.copy(x_0); x_tilde = np.copy(x_0)\n",
    "    \n",
    "    for s in range(S):\n",
    "        mu = dg(x_tilde)\n",
    "        dg_calls += size\n",
    "        \n",
    "        tau_1 = 2 / (s + 4)\n",
    "        alpha = 1 / (3 * tau_1 * L_stoch)\n",
    "        \n",
    "        y_mean = np.zeros_like(y)\n",
    "        \n",
    "        for j in range(m):\n",
    "            k = s * m + j\n",
    "\n",
    "            x = tau_1 * z + tau_2 * x_tilde + (1 - tau_1 - tau_2) * y\n",
    "            \n",
    "            i = np.random.randint(size)\n",
    "            Nabla = mu + dg_stoch(x, i) - dg_stoch(x_tilde, i)\n",
    "            dg_calls += 2\n",
    "            \n",
    "            z_new = (1/alpha * z + coef_1 * center_1 + coef_2 * center_2 - Nabla - line_approx) / (1/alpha + coef_1 + coef_2)\n",
    "            \n",
    "            y = x + tau_1 * (z_new - z)\n",
    "            z = np.copy(z_new)\n",
    "            \n",
    "            y_mean += 1/m * y\n",
    "\n",
    "        x_tilde = np.copy(y_mean)\n",
    "\n",
    "    return x_tilde, dg_calls, dh_calls"
   ]
  },
  {
   "cell_type": "markdown",
   "metadata": {},
   "source": [
    "## [SAE](https://arxiv.org/pdf/2002.02706.pdf)"
   ]
  },
  {
   "cell_type": "code",
   "execution_count": 164,
   "metadata": {
    "colab": {},
    "colab_type": "code",
    "id": "rjNaYv58JlF-"
   },
   "outputs": [],
   "source": [
    "def GMCO(y_0, T):\n",
    "    dg_calls = 0\n",
    "    dh_calls = 0\n",
    "    \n",
    "    y = np.copy(y_0)\n",
    "    \n",
    "    for _ in range(T):\n",
    "        \n",
    "        line_approx = dh(y)\n",
    "        y, dg_calls_, dh_calls_ = Katyusha(L, y_0, L_h, y, line_approx)\n",
    "        \n",
    "        dg_calls += dg_calls_\n",
    "        dh_calls += dh_calls_ + 1\n",
    "        \n",
    "#         if norm(df(y) + L * (y - y_0)) <= L/2 * norm(y - y_0):\n",
    "#             break\n",
    "    \n",
    "    return y, dg_calls, dh_calls"
   ]
  },
  {
   "cell_type": "code",
   "execution_count": 165,
   "metadata": {
    "colab": {},
    "colab_type": "code",
    "id": "99tJLIR6JlGD"
   },
   "outputs": [],
   "source": [
    "def SAE(x_0, T, verbose=True):\n",
    "    dg_calls = 0\n",
    "    dh_calls = 0\n",
    "    \n",
    "    vals = []; times = []; dg_list = []; dh_list = []\n",
    "    \n",
    "    x = np.copy(x_0); y = np.copy(x_0); z = np.copy(x_0)\n",
    "    A = 0.0\n",
    "    \n",
    "    vals.append(f(y))\n",
    "    times.append(0.0)\n",
    "    dg_list.append(0)\n",
    "    dh_list.append(0)\n",
    "    \n",
    "    toc = 0\n",
    "    \n",
    "    for t in range(T):\n",
    "        with Timer() as t1:\n",
    "            a = (1/L + np.sqrt(1 / L**2 + 4 * A / L)) / 2\n",
    "            A_new = A + a\n",
    "\n",
    "            x = (A * y + a * z) / A_new\n",
    "            y, dg_calls_, dh_calls_ = GMCO(x, 1)\n",
    "        \n",
    "        dg_calls += dg_calls_\n",
    "        dh_calls += dh_calls_\n",
    "        \n",
    "        with Timer() as t2:\n",
    "            z -= a * df(y)\n",
    "            A = A_new\n",
    "        \n",
    "        dg_calls += size\n",
    "        dh_calls += 1\n",
    "        \n",
    "        toc += t1.interval + t2.interval\n",
    "        \n",
    "        vals.append(f(y))\n",
    "        times.append(toc)\n",
    "        dg_list.append(dg_calls)\n",
    "        dh_list.append(dh_calls)\n",
    "        \n",
    "        if verbose:\n",
    "            print(f'iter = {t}, f = {vals[-1]}')\n",
    "        \n",
    "    return np.array(vals), times, dg_list, dh_list"
   ]
  },
  {
   "cell_type": "markdown",
   "metadata": {},
   "source": [
    "## [AGS](https://arxiv.org/pdf/1609.04905.pdf)"
   ]
  },
  {
   "cell_type": "code",
   "execution_count": 166,
   "metadata": {},
   "outputs": [],
   "source": [
    "def ProxAG(x_upper, x, T, lam, k, beta, optimize_linear_approx=True, line_approx_h=None):\n",
    "    nu = 1  # Euclidean setup\n",
    "    dg_calls = 0\n",
    "    dh_calls = 0\n",
    "    \n",
    "    u_tilde = np.copy(x_upper); u = np.copy(x)\n",
    "    \n",
    "    for t in range(1, T + 1):\n",
    "        if k == 1:\n",
    "            alpha = 2 / (t + 1)\n",
    "            p = (t - 1) / 2\n",
    "            q = 6 * L_g / (nu * t)\n",
    "        else:\n",
    "            alpha = 2 / (t + 2)\n",
    "            p = t / 2\n",
    "            q = 6 * L_g / (nu * k * (t + 1))\n",
    "        \n",
    "        u_under = (1 - lam) * x_upper + lam * (1 - alpha) * u_tilde + lam * alpha * u\n",
    "        \n",
    "#         if optimize_linear_approx:\n",
    "#             line_approx = dg(u_under)\n",
    "#             u, dg_calls_, dh_calls_ = Katyusha(beta, x, beta * p + q, u, line_approx)\n",
    "\n",
    "#             dg_calls += dg_calls_ + size\n",
    "#             dh_calls += dh_calls_\n",
    "#         else:\n",
    "        u = (beta * x + (beta * p + q) * u - dg(u_under) - line_approx_h) / (beta + beta * p + q)\n",
    "#         dh_calls += 1\n",
    "        dg_calls += size\n",
    "        \n",
    "        u_tilde += alpha * (u - u_tilde)\n",
    "    \n",
    "    return u, u_tilde, dg_calls, dh_calls"
   ]
  },
  {
   "cell_type": "code",
   "execution_count": 167,
   "metadata": {},
   "outputs": [],
   "source": [
    "def AGS(x_0, K, verbose=True):\n",
    "    nu = 1  # Euclidean setup\n",
    "    dg_calls = 0\n",
    "    dh_calls = 0\n",
    "    \n",
    "    vals = []; times = []; dg_list = []; dh_list = []\n",
    "    \n",
    "    x_upper = np.copy(x_0); x = np.copy(x_0)\n",
    "    \n",
    "    vals.append(f(x_upper))\n",
    "    times.append(0.0)\n",
    "    dg_list.append(0)\n",
    "    dh_list.append(0)\n",
    "    \n",
    "    toc = 0\n",
    "    \n",
    "    for k in range(1, K + 1):\n",
    "        \n",
    "        with Timer() as t1:    \n",
    "            gamma = 2 / (k + 1)\n",
    "            T = int(np.ceil(np.sqrt(L_g / L_h)))\n",
    "            lam = 1 if k == 1 else gamma * (T + 1) * (T + 2) / T / (T + 3)\n",
    "            beta = 3 * L * gamma / (nu * k * lam)\n",
    "        \n",
    "            x_under = (1 - gamma) * x_upper + gamma * x\n",
    "            x, x_tilde, dg_calls_, dh_calls_ = ProxAG(x_upper, x, T, lam, k, beta, line_approx_h=dh(x_under))\n",
    "        \n",
    "        dg_calls += dg_calls_ + size\n",
    "        dh_calls += dh_calls_ + 1\n",
    "        \n",
    "        with Timer() as t2:    \n",
    "            x_upper += lam * (x_tilde - x_upper)\n",
    "        \n",
    "        toc += t1.interval + t2.interval\n",
    "        \n",
    "        vals.append(f(x_upper))\n",
    "        times.append(toc)\n",
    "        dg_list.append(dg_calls)\n",
    "        dh_list.append(dh_calls)\n",
    "        \n",
    "        if verbose:\n",
    "            print(f'iter = {k}, f = {vals[-1]}')\n",
    "    \n",
    "    return np.array(vals), times, dg_list, dh_list"
   ]
  },
  {
   "cell_type": "markdown",
   "metadata": {},
   "source": [
    "## FGM"
   ]
  },
  {
   "cell_type": "code",
   "execution_count": 168,
   "metadata": {
    "colab": {},
    "colab_type": "code",
    "id": "2zujaAVnJlG7"
   },
   "outputs": [],
   "source": [
    "# def FGM(x_0, T, L, verbose=True):\n",
    "#     dg_calls = 0\n",
    "#     dh_calls = 0\n",
    "    \n",
    "#     vals = []; times = []; dg_list = []; dh_list = []\n",
    "    \n",
    "#     x = np.copy(x_0); v = np.copy(x_0)\n",
    "#     A = 0.0\n",
    "    \n",
    "#     vals.append(f(x))\n",
    "#     times.append(0.0)\n",
    "#     dg_list.append(0)\n",
    "#     dh_list.append(0)\n",
    "    \n",
    "#     toc = 0\n",
    "    \n",
    "#     for t in range(T):\n",
    "#         with Timer() as t1:    \n",
    "#             a = np.roots([L/2, -1, -A]).max()\n",
    "#             A_new = A + a\n",
    "\n",
    "#             y = (A * x + a * v) / A_new\n",
    "#             x = y - 1/L * df(y)\n",
    "#             v -= a * df(x)\n",
    "#             A = A_new\n",
    "        \n",
    "#         dg_calls += 2 * size\n",
    "#         dh_calls += 2\n",
    "        \n",
    "#         toc += t1.interval\n",
    "        \n",
    "#         vals.append(f(y))\n",
    "#         times.append(toc)\n",
    "#         dg_list.append(dg_calls)\n",
    "#         dh_list.append(dh_calls)\n",
    "        \n",
    "#         if verbose:\n",
    "#             print(f'iter = {t}, f = {vals[-1]}')\n",
    "    \n",
    "#     return np.array(vals), times, dg_list, dh_list"
   ]
  },
  {
   "cell_type": "code",
   "execution_count": 169,
   "metadata": {},
   "outputs": [],
   "source": [
    "def FGM(x_0, T, L, verbose=True):\n",
    "    dg_calls = 0\n",
    "    dh_calls = 0\n",
    "    \n",
    "    vals = []; times = []; dg_list = []; dh_list = []\n",
    "    \n",
    "    x = np.copy(x_0); y = np.copy(x_0)\n",
    "    A = 0.0\n",
    "    \n",
    "    vals.append(f(x))\n",
    "    times.append(0.0)\n",
    "    dg_list.append(0)\n",
    "    dh_list.append(0)\n",
    "    \n",
    "    toc = 0\n",
    "    \n",
    "    for t in range(T):\n",
    "        with Timer() as t1:\n",
    "            x_new = y - 1/L * df(y)\n",
    "            y = x_new + (t+1)/(t+4) * (x_new - x)\n",
    "            x = np.copy(x_new)\n",
    "        \n",
    "        dg_calls += size\n",
    "        dh_calls += 1\n",
    "        \n",
    "        toc += t1.interval\n",
    "        \n",
    "        vals.append(f(x))\n",
    "        times.append(toc)\n",
    "        dg_list.append(dg_calls)\n",
    "        dh_list.append(dh_calls)\n",
    "        \n",
    "        if verbose:\n",
    "            print(f'iter = {t}, f = {vals[-1]}')\n",
    "    \n",
    "    return np.array(vals), times, dg_list, dh_list"
   ]
  },
  {
   "cell_type": "markdown",
   "metadata": {},
   "source": [
    "## GD"
   ]
  },
  {
   "cell_type": "code",
   "execution_count": 170,
   "metadata": {},
   "outputs": [],
   "source": [
    "def GD(x_0, T, L, verbose=True):\n",
    "    dg_calls = 0\n",
    "    dh_calls = 0\n",
    "    \n",
    "    vals = []; times = []; dg_list = []; dh_list = []\n",
    "    \n",
    "    y = np.copy(x_0)\n",
    "    A = 0.0\n",
    "    \n",
    "    vals.append(f(y))\n",
    "    times.append(0.0)\n",
    "    dg_list.append(0)\n",
    "    dh_list.append(0)\n",
    "    \n",
    "    toc = 0\n",
    "    \n",
    "    for t in range(T):\n",
    "        with Timer() as t1:    \n",
    "            y -= 1/L * df(y)\n",
    "        \n",
    "        dg_calls += size\n",
    "        dh_calls += 1\n",
    "        \n",
    "        toc += t1.interval\n",
    "        \n",
    "        vals.append(f(y))\n",
    "        times.append(toc)\n",
    "        dg_list.append(dg_calls)\n",
    "        dh_list.append(dh_calls)\n",
    "        \n",
    "        if verbose:\n",
    "            print(f'iter = {t}, f = {vals[-1]}')\n",
    "    \n",
    "    return np.array(vals), times, dg_list, dh_list"
   ]
  },
  {
   "cell_type": "markdown",
   "metadata": {
    "colab": {
     "base_uri": "https://localhost:8080/",
     "height": 85
    },
    "colab_type": "code",
    "id": "aMYC4xsbJlGu",
    "outputId": "d4583a64-69a7-4882-8588-60e4124cb1a1"
   },
   "source": [
    "## Run"
   ]
  },
  {
   "cell_type": "code",
   "execution_count": 182,
   "metadata": {
    "colab": {},
    "colab_type": "code",
    "id": "fIzSRngeJlGy"
   },
   "outputs": [],
   "source": [
    "T = 100\n",
    "VERBOSE = True\n",
    "USE_F_STAR = True"
   ]
  },
  {
   "cell_type": "code",
   "execution_count": 172,
   "metadata": {},
   "outputs": [],
   "source": [
    "x_0 = np.random.random(size + 1) * 0.1"
   ]
  },
  {
   "cell_type": "code",
   "execution_count": 173,
   "metadata": {
    "colab": {
     "base_uri": "https://localhost:8080/",
     "height": 34
    },
    "colab_type": "code",
    "id": "cbkh78kaJlG1",
    "outputId": "c3ef9e67-a3bb-42e6-82eb-ed2e176478bf",
    "scrolled": true
   },
   "outputs": [
    {
     "name": "stdout",
     "output_type": "stream",
     "text": [
      "iter = 0, f = inf\n",
      "iter = 1, f = inf\n",
      "iter = 2, f = inf\n",
      "iter = 3, f = inf\n",
      "iter = 4, f = inf\n",
      "iter = 5, f = inf\n",
      "iter = 6, f = inf\n",
      "iter = 7, f = inf\n",
      "iter = 8, f = inf\n",
      "iter = 9, f = 42.25210733429813\n",
      "iter = 10, f = 19.126541198134365\n",
      "iter = 11, f = 3.5017780878779474\n",
      "iter = 12, f = 5.6478827779273795\n",
      "iter = 13, f = 11.124636241570496\n",
      "iter = 14, f = 13.51662998679214\n",
      "iter = 15, f = 12.940065307000813\n",
      "iter = 16, f = 10.11013407400209\n",
      "iter = 17, f = 5.968956704475463\n",
      "iter = 18, f = 1.4313052970114322\n",
      "iter = 19, f = 2.015607608830362\n",
      "iter = 20, f = 2.624236363036042\n",
      "iter = 21, f = 1.5301166696490882\n",
      "iter = 22, f = 0.9894789516329012\n",
      "iter = 23, f = 0.9986217720142943\n",
      "iter = 24, f = 0.9819381861014563\n",
      "iter = 25, f = 0.9726507172404418\n",
      "iter = 26, f = 0.9720741161944295\n",
      "iter = 27, f = 0.9715046579378311\n",
      "iter = 28, f = 0.9707796365239977\n",
      "iter = 29, f = 0.9701757531140403\n",
      "iter = 30, f = 0.9695728360911042\n",
      "iter = 31, f = 0.9689539456854153\n",
      "iter = 32, f = 0.968330036035939\n",
      "iter = 33, f = 0.9677017129825227\n",
      "iter = 34, f = 0.9670708953722683\n",
      "iter = 35, f = 0.9664402928863348\n",
      "iter = 36, f = 0.9658122719185943\n",
      "iter = 37, f = 0.9651890898445664\n",
      "iter = 38, f = 0.964572911020954\n",
      "iter = 39, f = 0.9639657659480145\n",
      "iter = 40, f = 0.9633695575819833\n",
      "iter = 41, f = 0.9627860598654931\n",
      "iter = 42, f = 0.9622169085847434\n",
      "iter = 43, f = 0.9616635933008091\n",
      "iter = 44, f = 0.9611274581695004\n",
      "iter = 45, f = 0.9606096939002711\n",
      "iter = 46, f = 0.9601113321735331\n",
      "iter = 47, f = 0.9596332449112229\n",
      "iter = 48, f = 0.9591761385617594\n",
      "iter = 49, f = 0.9587405607214208\n"
     ]
    }
   ],
   "source": [
    "vals_SAE, times_SAE, dg_list_SAE, dh_list_SAE = SAE(x_0, T // 2, verbose=VERBOSE)"
   ]
  },
  {
   "cell_type": "code",
   "execution_count": 174,
   "metadata": {
    "scrolled": true
   },
   "outputs": [
    {
     "name": "stdout",
     "output_type": "stream",
     "text": [
      "iter = 1, f = inf\n",
      "iter = 2, f = inf\n",
      "iter = 3, f = inf\n",
      "iter = 4, f = inf\n",
      "iter = 5, f = inf\n",
      "iter = 6, f = inf\n",
      "iter = 7, f = inf\n",
      "iter = 8, f = inf\n",
      "iter = 9, f = inf\n",
      "iter = 10, f = inf\n",
      "iter = 11, f = inf\n",
      "iter = 12, f = inf\n",
      "iter = 13, f = inf\n",
      "iter = 14, f = 53.98111208433668\n",
      "iter = 15, f = 32.323216909525485\n",
      "iter = 16, f = 15.715844583723422\n",
      "iter = 17, f = 3.6456210252497065\n",
      "iter = 18, f = 4.660468343188245\n",
      "iter = 19, f = 10.509826337241996\n",
      "iter = 20, f = 14.628449937150538\n",
      "iter = 21, f = 16.669692969529525\n",
      "iter = 22, f = 16.680381403942192\n",
      "iter = 23, f = 14.964901477428572\n",
      "iter = 24, f = 11.97192149529678\n",
      "iter = 25, f = 8.202841993113976\n",
      "iter = 26, f = 4.14159854257583\n",
      "iter = 27, f = 0.9860655411049787\n",
      "iter = 28, f = 2.6309076966038045\n",
      "iter = 29, f = 3.7542884064476443\n",
      "iter = 30, f = 3.676423032667358\n",
      "iter = 31, f = 2.5506913013572072\n",
      "iter = 32, f = 1.061709450864963\n",
      "iter = 33, f = 0.992677140175004\n",
      "iter = 34, f = 1.0739159439969412\n",
      "iter = 35, f = 0.9787672348141547\n",
      "iter = 36, f = 0.9733237186081116\n",
      "iter = 37, f = 0.975361314909127\n",
      "iter = 38, f = 0.9736996033218551\n",
      "iter = 39, f = 0.9713530078203167\n",
      "iter = 40, f = 0.9708776971442356\n",
      "iter = 41, f = 0.9704615414835883\n",
      "iter = 42, f = 0.9699062056272594\n",
      "iter = 43, f = 0.9694304645807963\n",
      "iter = 44, f = 0.9689685085529641\n",
      "iter = 45, f = 0.9684936039806638\n",
      "iter = 46, f = 0.9680156906700829\n",
      "iter = 47, f = 0.9675361620111445\n",
      "iter = 48, f = 0.9670544313365259\n",
      "iter = 49, f = 0.9665718680344247\n",
      "iter = 50, f = 0.9660897797407616\n",
      "iter = 51, f = 0.9656092210241329\n",
      "iter = 52, f = 0.9651312632061483\n",
      "iter = 53, f = 0.9646569519932991\n",
      "iter = 54, f = 0.9641872783506574\n",
      "iter = 55, f = 0.9637231885393448\n",
      "iter = 56, f = 0.9632655833278694\n",
      "iter = 57, f = 0.962815314100092\n",
      "iter = 58, f = 0.9623731813447293\n",
      "iter = 59, f = 0.9619399333300905\n",
      "iter = 60, f = 0.9615162645101003\n",
      "iter = 61, f = 0.9611028139522494\n",
      "iter = 62, f = 0.9607001638452949\n",
      "iter = 63, f = 0.9603088381761604\n",
      "iter = 64, f = 0.9599293016837419\n",
      "iter = 65, f = 0.9595619591470634\n",
      "iter = 66, f = 0.959207155038424\n",
      "iter = 67, f = 0.9588651735672602\n",
      "iter = 68, f = 0.9585362391365149\n",
      "iter = 69, f = 0.9582205172249304\n",
      "iter = 70, f = 0.9579181156965395\n",
      "iter = 71, f = 0.9576290865252175\n",
      "iter = 72, f = 0.9573534279099452\n",
      "iter = 73, f = 0.9570910867463802\n",
      "iter = 74, f = 0.9568419614124621\n",
      "iter = 75, f = 0.9566059048198002\n",
      "iter = 76, f = 0.956382727678553\n",
      "iter = 77, f = 0.9561722019214004\n",
      "iter = 78, f = 0.9559740642320683\n",
      "iter = 79, f = 0.9557880196255352\n",
      "iter = 80, f = 0.9556137450302703\n",
      "iter = 81, f = 0.9554508928272729\n",
      "iter = 82, f = 0.9552990943059833\n",
      "iter = 83, f = 0.9551579630029569\n",
      "iter = 84, f = 0.9550270978952569\n",
      "iter = 85, f = 0.9549060864265319\n",
      "iter = 86, f = 0.9547945073495295\n",
      "iter = 87, f = 0.954691933374132\n",
      "iter = 88, f = 0.9545979336148175\n",
      "iter = 89, f = 0.9545120758356483\n",
      "iter = 90, f = 0.9544339284944441\n",
      "iter = 91, f = 0.9543630625907203\n",
      "iter = 92, f = 0.9542990533242783\n",
      "iter = 93, f = 0.9542414815730914\n",
      "iter = 94, f = 0.9541899352003645\n",
      "iter = 95, f = 0.9541440102014641\n",
      "iter = 96, f = 0.9541033117018431\n",
      "iter = 97, f = 0.9540674548172137\n",
      "iter = 98, f = 0.9540360653871096\n",
      "iter = 99, f = 0.9540087805926641\n",
      "iter = 100, f = 0.9539852494689858\n"
     ]
    }
   ],
   "source": [
    "vals_AGS, times_AGS, dg_list_AGS, dh_list_AGS = AGS(x_0, T, verbose=VERBOSE)"
   ]
  },
  {
   "cell_type": "code",
   "execution_count": 175,
   "metadata": {
    "colab": {},
    "colab_type": "code",
    "id": "BziuTMHXJlG_",
    "scrolled": true
   },
   "outputs": [],
   "source": [
    "# vals_FGM, times_FGM, dg_list_FGM, dh_list_FGM = FGM(x_0, 2*T, 2*L, verbose=VERBOSE)"
   ]
  },
  {
   "cell_type": "code",
   "execution_count": 184,
   "metadata": {},
   "outputs": [
    {
     "name": "stdout",
     "output_type": "stream",
     "text": [
      "0.9511163030709926\n"
     ]
    }
   ],
   "source": [
    "if USE_F_STAR:\n",
    "    f_star = min(FGM(x_0, 4*T, 2*L, verbose=False)[0])\n",
    "    print(f_star)\n",
    "else:\n",
    "    f_star = 0.0"
   ]
  },
  {
   "cell_type": "code",
   "execution_count": 177,
   "metadata": {},
   "outputs": [],
   "source": [
    "# vals_GD, times_GD, dg_list_GD, dh_list_GD = GD(x_0, 2*T, 2*L, verbose=VERBOSE)"
   ]
  },
  {
   "cell_type": "markdown",
   "metadata": {
    "colab": {
     "base_uri": "https://localhost:8080/",
     "height": 85
    },
    "colab_type": "code",
    "id": "aMYC4xsbJlGu",
    "outputId": "d4583a64-69a7-4882-8588-60e4124cb1a1"
   },
   "source": [
    "## Figures"
   ]
  },
  {
   "cell_type": "code",
   "execution_count": 185,
   "metadata": {},
   "outputs": [],
   "source": [
    "SAVE = True"
   ]
  },
  {
   "cell_type": "code",
   "execution_count": 195,
   "metadata": {
    "colab": {
     "base_uri": "https://localhost:8080/",
     "height": 284
    },
    "colab_type": "code",
    "id": "uYMiwFo4JlHI",
    "outputId": "391bfa28-7d9f-4c6a-98a9-1bc479722803"
   },
   "outputs": [
    {
     "data": {
      "image/png": "[encoded data removed]",
      "text/plain": [
       "<Figure size 576x432 with 1 Axes>"
      ]
     },
     "metadata": {
      "needs_background": "light"
     },
     "output_type": "display_data"
    }
   ],
   "source": [
    "plt.figure(figsize=(8, 6))\n",
    "plt.rcParams.update({'font.size': 16})\n",
    "\n",
    "lim = min(len(dg_list_SAE), len(dg_list_AGS))\n",
    "\n",
    "plt.plot(dg_list_SAE[:lim], vals_SAE[:lim] - f_star, 'blueviolet', label='SAE', ls='-.')\n",
    "plt.plot(dg_list_AGS[:lim], vals_AGS[:lim] - f_star, 'deeppink', label='AGS', ls='--')\n",
    "# plt.plot(dg_list_FGM, vals_FGM - f_star, 'coral', label='FGM', ls='-')\n",
    "# plt.plot(dg_list_GD, vals_GD - f_star, 'green', label='GD', ls=':')\n",
    "plt.yscale('log')\n",
    "\n",
    "plt.grid(alpha=0.4)\n",
    "plt.title(f'$m = {MAX_SAMPLES}, \\\\mu = {MU}, \\\\lambda = {LAMBDA}, \\gamma = {GAMMA}$')\n",
    "plt.xlabel('$\\\\nabla g_i(\\\\cdot)$ oracle calls', fontsize=12)\n",
    "plt.xticks(rotation=-20)\n",
    "if f_star != 0.0:\n",
    "    plt.ylabel('$f(\\\\cdot) - f^*$ (log. scale)', fontsize=12)\n",
    "else:\n",
    "    plt.ylabel('$f(\\\\cdot)$ (log. scale)', fontsize=12)\n",
    "plt.legend()\n",
    "plt.tight_layout()\n",
    "\n",
    "if SAVE:\n",
    "    plt.savefig(f'figures/m={MAX_SAMPLES}_mu={MU}_lambda={LAMBDA}_gamma={GAMMA}_gi_calls.pdf')\n",
    "plt.show()"
   ]
  },
  {
   "cell_type": "code",
   "execution_count": 193,
   "metadata": {},
   "outputs": [
    {
     "data": {
      "image/png": "[encoded data removed]",
      "text/plain": [
       "<Figure size 576x432 with 1 Axes>"
      ]
     },
     "metadata": {
      "needs_background": "light"
     },
     "output_type": "display_data"
    }
   ],
   "source": [
    "plt.figure(figsize=(8, 6))\n",
    "plt.rcParams.update({'font.size': 16})\n",
    "\n",
    "plt.plot(dh_list_SAE, vals_SAE - f_star, 'blueviolet', label='SAE', ls='-.')\n",
    "plt.plot(dh_list_AGS, vals_AGS - f_star, 'deeppink', label='AGS', ls='--')\n",
    "# plt.plot(dh_list_FGM, vals_FGM - f_star, 'coral', label='FGM', ls='-')\n",
    "# plt.plot(dh_list_GD, vals_GD - f_star, 'green', label='GD', ls=':')\n",
    "plt.yscale('log')\n",
    "\n",
    "plt.grid(alpha=0.4)\n",
    "plt.title(f'$m = {MAX_SAMPLES}, \\\\mu = {MU}, \\\\lambda = {LAMBDA}, \\gamma = {GAMMA}$')\n",
    "plt.xlabel('$\\\\nabla h(\\\\cdot)$ oracle calls', fontsize=12)\n",
    "if f_star != 0.0:\n",
    "    plt.ylabel('$f(\\\\cdot) - f^*$ (log. scale)', fontsize=12)\n",
    "else:\n",
    "    plt.ylabel('$f(\\\\cdot)$ (log. scale)', fontsize=12)\n",
    "plt.legend()\n",
    "plt.tight_layout()\n",
    "\n",
    "if SAVE:\n",
    "    plt.savefig(f'figures/m={MAX_SAMPLES}_mu={MU}_lambda={LAMBDA}_gamma={GAMMA}_h_calls.pdf')\n",
    "plt.show()"
   ]
  },
  {
   "cell_type": "code",
   "execution_count": 194,
   "metadata": {},
   "outputs": [
    {
     "data": {
      "image/png": "[encoded data removed]",
      "text/plain": [
       "<Figure size 576x432 with 1 Axes>"
      ]
     },
     "metadata": {
      "needs_background": "light"
     },
     "output_type": "display_data"
    }
   ],
   "source": [
    "plt.figure(figsize=(8, 6))\n",
    "plt.rcParams.update({'font.size': 16})\n",
    "\n",
    "plt.plot(times_SAE[:30], vals_SAE[:30] - f_star, 'blueviolet', label='SAE', ls='-.')\n",
    "plt.plot(times_AGS[:40], vals_AGS[:40] - f_star, 'deeppink', label='AGS', ls='--')\n",
    "# plt.plot(times_FGM, vals_FGM - f_star, 'coral', label='FGM', ls='-')\n",
    "# plt.plot(times_GD, vals_GD - f_star, 'green', label='GD', ls=':')\n",
    "plt.yscale('log')\n",
    "\n",
    "plt.grid(alpha=0.4)\n",
    "plt.title(f'$m = {MAX_SAMPLES}, \\\\mu = {MU}, \\\\lambda = {LAMBDA}, \\gamma = {GAMMA}$')\n",
    "plt.xlabel('Time, sec.', fontsize=12)\n",
    "if f_star != 0.0:\n",
    "    plt.ylabel('$f(\\\\cdot) - f^*$ (log. scale)', fontsize=12)\n",
    "else:\n",
    "    plt.ylabel('$f(\\\\cdot)$ (log. scale)', fontsize=12)\n",
    "plt.legend()\n",
    "plt.tight_layout()\n",
    "\n",
    "if SAVE:\n",
    "    plt.savefig(f'figures/m={MAX_SAMPLES}_mu={MU}_lambda={LAMBDA}_gamma={GAMMA}_time.pdf')\n",
    "plt.show()"
   ]
  },
  {
   "cell_type": "code",
   "execution_count": null,
   "metadata": {},
   "outputs": [],
   "source": []
  }
 ],
 "metadata": {
  "@webio": {
   "lastCommId": null,
   "lastKernelId": null
  },
  "colab": {
   "collapsed_sections": [],
   "name": "Copy of Accelerated Sliding_SVM_improved.ipynb",
   "provenance": []
  },
  "kernelspec": {
   "display_name": "Python 3",
   "language": "python",
   "name": "python3"
  },
  "language_info": {
   "codemirror_mode": {
    "name": "ipython",
    "version": 3
   },
   "file_extension": ".py",
   "mimetype": "text/x-python",
   "name": "python",
   "nbconvert_exporter": "python",
   "pygments_lexer": "ipython3",
   "version": "3.8.2"
  }
 },
 "nbformat": 4,
 "nbformat_minor": 1
}
